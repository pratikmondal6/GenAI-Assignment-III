{
 "cells": [
  {
   "cell_type": "markdown",
   "metadata": {
    "id": "LqyxjCYkHEgx"
   },
   "source": [
    "\n",
    "<div align=\"center\">\n",
    "  <h1></h1>\n",
    "  <h1>Multi-Agent Meal Planning</h1>\n",
    "  <h4 align=\"center\">Assignmnet III</h4>\n",
    "  <h4 align=\"center\"></h4>\n",
    "</div>"
   ]
  },
  {
   "cell_type": "markdown",
   "metadata": {
    "id": "3xtFXjOSHdJq"
   },
   "source": [
    "Welcome to Assignment III!\n",
    "\n",
    "In this notebook, you will design and implement a Multi-Agent Meal Planning System that generates meal recommendations while adhering to budgetary and nutritional constraints. Using a team of specialized agents, you'll create a dynamic and interactive system capable of tailoring meal plans to diverse user requirements.\n",
    "\n",
    "**By the end of this assignment, you'll be able to:**\n",
    "1. Build a Multi-Agent System to collaboratively solve a complex task, such as\n",
    "meal planning.\n",
    "2. Design agents with specialized roles, such as recommending meals or validating budgets.\n",
    "3. Implement agent coordination mechanisms using RoundRobinGroupChat for group chatting.\n",
    "4. Integrate external tools (e.g., a Budget Checker Tool) to ensure the system adheres to financial constraints.\n",
    "5. Use termination methods effectively to manage agent interactions and prevent resource overuse."
   ]
  },
  {
   "cell_type": "markdown",
   "metadata": {
    "id": "jKmTq4gUHnlV"
   },
   "source": [
    "## Group Members\n",
    "\n",
    "\n",
    "1. First memebr:\n",
    "  * Name:\n",
    "  * Matrikel-Nr.:\n",
    "2. Second memebr:\n",
    "  * Name:\n",
    "  * Matrikel-Nr.:\n",
    "2. Third memebr:\n",
    "  * Name:\n",
    "  * Matrikel-Nr.:"
   ]
  },
  {
   "cell_type": "markdown",
   "metadata": {
    "id": "B4PmZxLsHq2w"
   },
   "source": [
    "# 1. Access to GROQ.\n",
    "Execute the following cell to connect to your Groq account."
   ]
  },
  {
   "cell_type": "code",
   "execution_count": 1,
   "metadata": {
    "id": "ZYkvWYtAMYL1"
   },
   "outputs": [
    {
     "name": "stdout",
     "output_type": "stream",
     "text": [
      "Enter GROQ_API_KEY here: ········\n"
     ]
    }
   ],
   "source": [
    "import os\n",
    "from getpass import getpass\n",
    "#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\n",
    "tokenGROQ = getpass('Enter GROQ_API_KEY here: ')\n",
    "os.environ[\"GROQ_API_KEY\"] = tokenGROQ"
   ]
  },
  {
   "cell_type": "markdown",
   "metadata": {
    "id": "qHulOeVOMmyD"
   },
   "source": [
    "# 2. Packages\n",
    "Execute the following code cells for installing the packages needed."
   ]
  },
  {
   "cell_type": "code",
   "execution_count": 13,
   "metadata": {
    "id": "efxTjkXiMtyG"
   },
   "outputs": [
    {
     "name": "stdout",
     "output_type": "stream",
     "text": [
      "Requirement already satisfied: autogen-agentchat in c:\\users\\hp\\anaconda3\\lib\\site-packages (0.4.3)\n",
      "Requirement already satisfied: autogen-core==0.4.3 in c:\\users\\hp\\anaconda3\\lib\\site-packages (from autogen-agentchat) (0.4.3)\n",
      "Requirement already satisfied: jsonref~=1.1.0 in c:\\users\\hp\\anaconda3\\lib\\site-packages (from autogen-core==0.4.3->autogen-agentchat) (1.1.0)\n",
      "Requirement already satisfied: opentelemetry-api>=1.27.0 in c:\\users\\hp\\anaconda3\\lib\\site-packages (from autogen-core==0.4.3->autogen-agentchat) (1.29.0)\n",
      "Requirement already satisfied: pillow>=11.0.0 in c:\\users\\hp\\anaconda3\\lib\\site-packages (from autogen-core==0.4.3->autogen-agentchat) (11.1.0)\n",
      "Requirement already satisfied: protobuf~=4.25.1 in c:\\users\\hp\\anaconda3\\lib\\site-packages (from autogen-core==0.4.3->autogen-agentchat) (4.25.5)\n",
      "Requirement already satisfied: pydantic<3.0.0,>=2.10.0 in c:\\users\\hp\\anaconda3\\lib\\site-packages (from autogen-core==0.4.3->autogen-agentchat) (2.10.5)\n",
      "Requirement already satisfied: typing-extensions>=4.0.0 in c:\\users\\hp\\anaconda3\\lib\\site-packages (from autogen-core==0.4.3->autogen-agentchat) (4.12.2)\n",
      "Requirement already satisfied: deprecated>=1.2.6 in c:\\users\\hp\\anaconda3\\lib\\site-packages (from opentelemetry-api>=1.27.0->autogen-core==0.4.3->autogen-agentchat) (1.2.15)\n",
      "Requirement already satisfied: importlib-metadata<=8.5.0,>=6.0 in c:\\users\\hp\\anaconda3\\lib\\site-packages (from opentelemetry-api>=1.27.0->autogen-core==0.4.3->autogen-agentchat) (6.0.0)\n",
      "Requirement already satisfied: annotated-types>=0.6.0 in c:\\users\\hp\\anaconda3\\lib\\site-packages (from pydantic<3.0.0,>=2.10.0->autogen-core==0.4.3->autogen-agentchat) (0.7.0)\n",
      "Requirement already satisfied: pydantic-core==2.27.2 in c:\\users\\hp\\anaconda3\\lib\\site-packages (from pydantic<3.0.0,>=2.10.0->autogen-core==0.4.3->autogen-agentchat) (2.27.2)\n",
      "Requirement already satisfied: wrapt<2,>=1.10 in c:\\users\\hp\\anaconda3\\lib\\site-packages (from deprecated>=1.2.6->opentelemetry-api>=1.27.0->autogen-core==0.4.3->autogen-agentchat) (1.14.1)\n",
      "Requirement already satisfied: zipp>=0.5 in c:\\users\\hp\\anaconda3\\lib\\site-packages (from importlib-metadata<=8.5.0,>=6.0->opentelemetry-api>=1.27.0->autogen-core==0.4.3->autogen-agentchat) (3.11.0)\n"
     ]
    }
   ],
   "source": [
    "!pip install autogen-agentchat autogen-ext[openai] matplotlib yfinance -q\n",
    "!pip install groq -q\n",
    "!pip install autogen-agentchat\n"
   ]
  },
  {
   "cell_type": "markdown",
   "metadata": {
    "id": "BUvMKTSAM2NJ"
   },
   "source": [
    "# 3. Problem Statement: Multi-Agent Meal Planning System with Budget Management"
   ]
  },
  {
   "cell_type": "markdown",
   "metadata": {
    "id": "NArOztp59V1n"
   },
   "source": [
    "\n",
    "In this notebook we will design and implement a multi-agent system to assist users in meal planning while addressing the following:\n",
    "\n",
    "* Dietary preferences: Personalization based on restrictions and user preferences.\n",
    "* Nutritional goals: Balanced and healthy meal recommendations.\n",
    "* Financial constraints: Ensuring affordability through budget validation.\n",
    "\n",
    "This system will include a Budget Checker Tool to guarantee all recommendations fit within the user's financial limits.\n",
    "\n",
    "\n",
    "**System**\n",
    "\n",
    "1. Personalized Meal Recommendations:\n",
    "\n",
    "* Provides tailored meal suggestions for breakfast, lunch, dinner, and snacks.\n",
    "* Considers dietary restrictions, time availability, and individual preferences.\n",
    "2. Budget Validation:\n",
    "\n",
    "* Uses the Budget Checker Tool to confirm that meal costs fit within the user’s budget.\n",
    "3. User-Friendly Assistance:\n",
    "\n",
    "* Delivers clear, concise, and actionable recommendations for each meal type.\n",
    "\n",
    "**Agent Roles**\n",
    "\n",
    "1. Breakfast Agent:\n",
    "\n",
    "Role: Recommends breakfast options that align with dietary preferences, preparation time, and nutritional goals.\n",
    "\n",
    "Specialization: Provides a single breakfast suggestion and validates its affordability using the Budget Checker Tool.\n",
    "2. Lunch Agent:\n",
    "\n",
    "Role: Suggests balanced and nutritious lunch options tailored to dietary needs.\n",
    "\n",
    "Specialization: Offers one lunch suggestion and ensures it fits within the budget.\n",
    "\n",
    "3. Dinner Agent:\n",
    "\n",
    "Role: Recommends practical dinner options based on dietary requirements, budget, and preparation constraints.\n",
    "\n",
    "Specialization: Validates that dinner suggestions are both feasible and affordable.\n",
    "\n",
    "4. Snack Agent:\n",
    "\n",
    "Role: Proposes healthy and satisfying snack options to complement the day’s meals.\n",
    "\n",
    "Specialization: Verifies that snack recommendations are affordable and nutritionally balanced.\n",
    "\n",
    "5. Budget Agent:\n",
    "\n",
    "Role: Ensures all meal costs remain within the user's remaining budget by using the Budget Checker Tool.\n",
    "\n",
    "Specialization: Provides real-time budget feedback to guide meal selections and prevent overspending.\n",
    "\n",
    "\n",
    "\n",
    "**Custom Tool: Budget Checker Tool**\n",
    "1. Purpose:\n",
    "\n",
    "* Validates if a proposed meal cost fits within the user’s current budget.\n",
    "\n",
    "2. Features:\n",
    "\n",
    "* Budget Validation: Compares the cost of a meal against the remaining budget.\n",
    "* Feedback: Provides clear, actionable messages indicating:\n",
    "\n",
    "  Whether the cost is affordable.\n",
    "\n",
    "  How much budget remains or is exceeded.\n",
    "\n",
    "* Integration: Used by all meal-specific agents to ensure recommendations are financially feasible."
   ]
  },
  {
   "cell_type": "markdown",
   "metadata": {
    "id": "XbXVJt2bPj_f"
   },
   "source": [
    "# 4. Configure the Model Client:\n",
    "\n",
    "Use the OpenAIChatCompletionClient class to create an instance of the model client.\n",
    "\n",
    "Configure it with the following:\n",
    "\n",
    "* Model name: \"llama3-70b-8192\".\n",
    "\n",
    "* API base URL: \"https://api.groq.com/openai/v1\".\n",
    "\n",
    "* API key: Use an environment variable named \"GROQ_API_KEY\" for secure authentication.\n",
    "\n",
    "* Model settings: Include attributes like whether vision is enabled, function-calling support, and JSON output format."
   ]
  },
  {
   "cell_type": "code",
   "execution_count": 20,
   "metadata": {
    "id": "Bhq1nPdMNzZi"
   },
   "outputs": [
    {
     "name": "stdout",
     "output_type": "stream",
     "text": [
      "<autogen_ext.models.openai._openai_client.OpenAIChatCompletionClient object at 0x000002625A90F990>\n"
     ]
    }
   ],
   "source": [
    "from autogen_ext.models.openai import OpenAIChatCompletionClient\n",
    "\n",
    "# Step 1: Create the model client\n",
    "model_client = OpenAIChatCompletionClient(\n",
    "    model=\"llama3-70b-8192\",\n",
    "    base_url=\"https://api.groq.com/openai/v1\",\n",
    "    api_key=os.environ[\"GROQ_API_KEY\"],\n",
    "    model_info={\n",
    "        \"vision\": False,\n",
    "        \"function_calling\": True,\n",
    "        \"json_output\": True,\n",
    "        \"family\": \"llama3\",\n",
    "    },\n",
    ")\n",
    "\n",
    "# Step 2: Verify the client is set up correctly\n",
    "print(model_client)"
   ]
  },
  {
   "cell_type": "markdown",
   "metadata": {
    "id": "tw0V5q65N5fM"
   },
   "source": [
    "# 5. Budget Tracker Tool\n",
    "\n",
    "The provided code implements a Budget Checker Tool to validate whether a given cost is within the current budget."
   ]
  },
  {
   "cell_type": "code",
   "execution_count": 5,
   "metadata": {
    "id": "WzDx9Y0rY_kI"
   },
   "outputs": [],
   "source": [
    "from autogen_core.tools import FunctionTool\n",
    "\n",
    "def budget_checker_tool(cost: float, current_budget: float) -> dict:\n",
    "    \"\"\"\n",
    "    Check if a given cost fits within the current budget.\n",
    "\n",
    "    :param cost: float, the cost to check.\n",
    "    :param current_budget: float, the current remaining budget.\n",
    "    :return: dict, containing whether the cost fits the budget and a message.\n",
    "    \"\"\"\n",
    "    if cost > current_budget:\n",
    "        return {\n",
    "            \"fits_budget\": False,\n",
    "            \"message\": f\"This exceeds your budget by ${cost - current_budget:.2f}.\"\n",
    "        }\n",
    "    return {\n",
    "        \"fits_budget\": True,\n",
    "        \"message\": f\"The cost of ${cost:.2f} fits within your budget.\"\n",
    "    }\n",
    "\n",
    "# Example usage with the FunctionTool\n",
    "budget_checker_tool = FunctionTool(\n",
    "    budget_checker_tool,\n",
    "    description=\"Check if a given cost fits within the current budget.\"\n",
    ")"
   ]
  },
  {
   "cell_type": "markdown",
   "metadata": {
    "id": "tlonsPS0Mtj1"
   },
   "source": [
    "#6. Agent Design\n",
    "\n",
    "In this task, you will implement a set of specialized Assistant Agents to collaboratively plan meals while addressing dietary, nutritional, and budgetary constraints. You will design Meal Planner Agents for breakfast, lunch, dinner, and snacks, each with clear roles and behavioral instructions."
   ]
  },
  {
   "cell_type": "code",
   "execution_count": 8,
   "metadata": {
    "id": "RI1MB6P-VpN3"
   },
   "outputs": [
    {
     "name": "stdout",
     "output_type": "stream",
     "text": [
      "Agents initialized successfully!\n"
     ]
    }
   ],
   "source": [
    "# Import the required class\n",
    "from autogen_agentchat.agents import AssistantAgent\n",
    "\n",
    "# Step 1: Define the Budget Agent\n",
    "# Complete the following implementation\n",
    "budget_agent = AssistantAgent(\n",
    "    name=\"BudgetAgent\",\n",
    "    tools=[budget_checker_tool],\n",
    "    model_client=model_client,\n",
    "    description=\"Responsible for validating meal costs against the user's budget.\",\n",
    "    system_message=\"Your role is to ensure that all proposed meal costs fit within the user's budget.\"\n",
    ")\n",
    "\n",
    "# Step 2: Define the Breakfast Planner Agent\n",
    "# Complete the following implementation\n",
    "breakfast_agent = AssistantAgent(\n",
    "    name=\"BreakfastAgent\",\n",
    "    model_client=model_client,\n",
    "    description=\"Suggests breakfast options that meet dietary, nutritional, and budget constraints.\",\n",
    "    system_message=\"Your role is to recommend a balanced breakfast based on dietary preferences and ensure it fits within the budget.\"\n",
    ")\n",
    "\n",
    "# Step 3: Define the Lunch Planner Agent\n",
    "# Complete the following implementation\n",
    "lunch_agent = AssistantAgent(\n",
    "    name=\"LunchAgent\",\n",
    "    model_client=model_client,\n",
    "    description=\"Recommends lunch options that align with nutritional and budgetary goals.\",\n",
    "    system_message=\"Your role is to suggest a healthy lunch and ensure it meets the budget constraints.\"\n",
    ")\n",
    "\n",
    "# Step 4: Define the Dinner Planner Agent\n",
    "# Complete the following implementation\n",
    "dinner_agent = AssistantAgent(\n",
    "    name=\"DinnerAgent\",\n",
    "    model_client=model_client,\n",
    "    description=\"Suggests dinner options that are practical, nutritious, and budget-friendly.\",\n",
    "    system_message=\"Your role is to provide dinner recommendations while adhering to the budget.\"\n",
    ")\n",
    "\n",
    "# Step 5: Define the Snack Planner Agent\n",
    "# Complete the following implementation\n",
    "snack_agent = AssistantAgent(\n",
    "    name=\"SnackAgent\",\n",
    "    model_client=model_client,\n",
    "    description=\"Proposes snack options that are healthy and affordable.\",\n",
    "    system_message=\"Your role is to recommend snacks that complement the meal plan and fit the budget.\"\n",
    ")\n",
    "\n",
    "# Step 6: Test the agents\n",
    "print(\"Agents initialized successfully!\")\n"
   ]
  },
  {
   "cell_type": "markdown",
   "metadata": {
    "id": "XnYyJzcuNPN0"
   },
   "source": [
    "\n",
    "- Question: which termination methods are available (introduced in the exercise) and what are they best used for and what are the potential issues?\n",
    "\n",
    "Answer:\n",
    "\n",
    "- Question: why is it important to have a termination condition?\n",
    "\n",
    "Answer:\n",
    "\n",
    "- Question: Can the approaches be combined?\n",
    "\n",
    "Answer:\n"
   ]
  },
  {
   "cell_type": "markdown",
   "metadata": {
    "id": "hcm09E50Xycl"
   },
   "source": [
    "# 7. Implementing Termination\n",
    "Implement a MaxMessageTermination with 10 max_messages"
   ]
  },
  {
   "cell_type": "code",
   "execution_count": 21,
   "metadata": {
    "id": "8GY9GviWP2tq"
   },
   "outputs": [
    {
     "name": "stdout",
     "output_type": "stream",
     "text": [
      "Termination condition set!\n"
     ]
    }
   ],
   "source": [
    "from autogen_agentchat.conditions import MaxMessageTermination\n",
    "# Complete the following implementation\n",
    "termination = MaxMessageTermination(max_messages=10)\n",
    "print(\"Termination condition set!\")"
   ]
  },
  {
   "cell_type": "markdown",
   "metadata": {
    "id": "HDNnnP-mQdDo"
   },
   "source": [
    "#8. RoundRobinGroupChat\n",
    "\n",
    "In this part, you will implement a RoundRobinGroupChat team to coordinate multiple agents for a meal-planning task. The system will use a sequential approach, ensuring that each agent contributes to the task in a pre-defined order.\n",
    "\n",
    "please think about the sequence of the agents that you defined above. Which sequence might be best?"
   ]
  },
  {
   "cell_type": "code",
   "execution_count": 26,
   "metadata": {
    "id": "QrCkv3UNQ2lZ"
   },
   "outputs": [
    {
     "ename": "AttributeError",
     "evalue": "'MaxMessageTermination' object has no attribute 'max_messages'",
     "output_type": "error",
     "traceback": [
      "\u001b[1;31m---------------------------------------------------------------------------\u001b[0m",
      "\u001b[1;31mAttributeError\u001b[0m                            Traceback (most recent call last)",
      "Cell \u001b[1;32mIn[26], line 7\u001b[0m\n\u001b[0;32m      4\u001b[0m termination \u001b[38;5;241m=\u001b[39m MaxMessageTermination(max_messages\u001b[38;5;241m=\u001b[39m\u001b[38;5;241m10\u001b[39m)\n\u001b[0;32m      6\u001b[0m \u001b[38;5;66;03m# Verifying that termination is set up correctly\u001b[39;00m\n\u001b[1;32m----> 7\u001b[0m \u001b[38;5;28mprint\u001b[39m(\u001b[38;5;124mf\u001b[39m\u001b[38;5;124m\"\u001b[39m\u001b[38;5;124mTermination condition set with max_messages=\u001b[39m\u001b[38;5;132;01m{\u001b[39;00mtermination\u001b[38;5;241m.\u001b[39mmax_messages\u001b[38;5;132;01m}\u001b[39;00m\u001b[38;5;124m\"\u001b[39m)\n",
      "\u001b[1;31mAttributeError\u001b[0m: 'MaxMessageTermination' object has no attribute 'max_messages'"
     ]
    }
   ],
   "source": [
    "from autogen_agentchat.conditions import MaxMessageTermination\n",
    "\n",
    "# Implementing MaxMessageTermination with a maximum of 10 messages\n",
    "termination = MaxMessageTermination(max_messages=10)\n",
    "\n",
    "# Verifying that termination is set up correctly\n",
    "print(f\"Termination condition set with max_messages={termination.max_messages}\")\n"
   ]
  },
  {
   "cell_type": "code",
   "execution_count": 27,
   "metadata": {
    "id": "3UHMm5p8RMMG"
   },
   "outputs": [
    {
     "ename": "NameError",
     "evalue": "name 'Console' is not defined",
     "output_type": "error",
     "traceback": [
      "\u001b[1;31m---------------------------------------------------------------------------\u001b[0m",
      "\u001b[1;31mNameError\u001b[0m                                 Traceback (most recent call last)",
      "Cell \u001b[1;32mIn[27], line 2\u001b[0m\n\u001b[0;32m      1\u001b[0m \u001b[38;5;66;03m# Complete the following implementation\u001b[39;00m\n\u001b[1;32m----> 2\u001b[0m \u001b[38;5;28;01mawait\u001b[39;00m Console(\n\u001b[0;32m      3\u001b[0m     team \u001b[38;5;241m=\u001b[39m [budget_agent, breakfast_agent, lunch_agent, dinner_agent, snack_agent],\n\u001b[0;32m      4\u001b[0m     termination_condition\u001b[38;5;241m=\u001b[39mtermination\n\u001b[0;32m      5\u001b[0m )\n",
      "\u001b[1;31mNameError\u001b[0m: name 'Console' is not defined"
     ]
    }
   ],
   "source": [
    "# Complete the following implementation\n",
    "await Console(\n",
    "    team = [budget_agent, breakfast_agent, lunch_agent, dinner_agent, snack_agent],\n",
    "    termination_condition=termination\n",
    ")"
   ]
  },
  {
   "cell_type": "markdown",
   "metadata": {
    "id": "jhxsIaFrd0At"
   },
   "source": [
    "Expected output should show the following:\n",
    "\n",
    "**Agents' Initial Suggestions:** Each agent provides meal recommendations (e.g., breakfast, lunch, dinner, snack) with corresponding costs.\n",
    "\n",
    "**Budget Validation:** The Budget_Agent uses the budget_checker_tool to validate if the total cost fits within the budget. If it doesn't, the agent provides a clear message explaining how much the budget is exceeded.\n",
    "\n",
    "**Adjustments by Agents:** If the budget is exceeded, agents revise their recommendations to bring the total cost within the budget.\n",
    "\n",
    "**Task Completion:** The system stops after reaching the maximum number of allowed messages, with a summary of the interactions."
   ]
  },
  {
   "cell_type": "markdown",
   "metadata": {
    "id": "G1eRvmQnfxT0"
   },
   "source": [
    "- Question: What are the drawbacks of this approach?\n",
    "\n",
    "Answer:"
   ]
  },
  {
   "cell_type": "markdown",
   "metadata": {
    "id": "e6tSmlAghL7I"
   },
   "source": [
    "### ***What You Should Remember:***\n",
    "\n",
    "1. **Multi-Agent Systems** allow specialized agents to collaboratively solve tasks, with each agent focusing on a specific role (e.g., meal planning, budget validation).\n",
    "\n",
    "2. **RoundRobinGroupChat** ensures that agents interact sequentially, providing structured communication and ensuring every agent contributes in a predefined order.\n",
    "\n",
    "3. **SelectorGroupChat** dynamically selects agents based on the task's context, enabling efficient and context-aware delegation of responsibilities.\n",
    "\n",
    "5. **Assistant Agents** are modular components with specialized roles (e.g., Breakfast Agent, Snack Agent) that generate context-specific responses and recommendations.\n",
    "\n",
    "\n",
    "7. **System Messages and Descriptions** guide agent behavior, specifying their focus (e.g., dietary preferences, time constraints, balanced nutrition) and ensuring clarity in their contributions.\n",
    "\n",
    "8. **Building a Multi-Agent System** involves:\n",
    "    - **Agent Setup:** Defining agents with specific roles and integrating tools like the Budget Checker.\n",
    "    - **Coordination Mechanisms:** Using methods like `RoundRobinGroupChat` to manage agent interactions."
   ]
  },
  {
   "cell_type": "code",
   "execution_count": null,
   "metadata": {
    "id": "nTTOGInkgqyl"
   },
   "outputs": [],
   "source": []
  }
 ],
 "metadata": {
  "colab": {
   "provenance": []
  },
  "kernelspec": {
   "display_name": "Python 3 (ipykernel)",
   "language": "python",
   "name": "python3"
  },
  "language_info": {
   "codemirror_mode": {
    "name": "ipython",
    "version": 3
   },
   "file_extension": ".py",
   "mimetype": "text/x-python",
   "name": "python",
   "nbconvert_exporter": "python",
   "pygments_lexer": "ipython3",
   "version": "3.11.5"
  }
 },
 "nbformat": 4,
 "nbformat_minor": 1
}
